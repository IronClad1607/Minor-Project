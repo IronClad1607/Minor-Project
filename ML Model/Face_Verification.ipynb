{
 "cells": [
  {
   "cell_type": "code",
   "execution_count": null,
   "metadata": {},
   "outputs": [],
   "source": [
    "import numpy as np\n",
    "import tensorflow as tf\n",
    "from tensorflow.keras.models import Sequential\n",
    "from tensorflow.keras.layers import Input, Concatenate,Dense, Subtract,Flatten,Lambda\n",
    "import matplotlib.pyplot as plt\n",
    "import cv2\n",
    "from  scipy import ndimage"
   ]
  },
  {
   "cell_type": "code",
   "execution_count": null,
   "metadata": {},
   "outputs": [],
   "source": [
    "!curl -O http://vis-www.cs.umass.edu/lfw/lfw.tgz\n",
    "!tar -xzvf lfw.tgz"
   ]
  },
  {
   "cell_type": "code",
   "execution_count": null,
   "metadata": {},
   "outputs": [],
   "source": [
    "def show(image, label):\n",
    "    plt.figure()\n",
    "    plt.imshow(image[0])\n",
    "    # plt.title(labels[label])\n",
    "    plt.title(label)\n",
    "    plt.axis('off')"
   ]
  },
  {
   "cell_type": "code",
   "execution_count": null,
   "metadata": {},
   "outputs": [],
   "source": [
    "import os\n",
    "import random\n",
    "BASE_PATH = 'lfw'\n",
    "\n",
    "labels = [i for i in os.listdir(BASE_PATH)]\n",
    "paths_with_more_than_2_images = []\n",
    "\n",
    "train_labels = [i for i in labels if len(os.listdir(os.path.join(BASE_PATH,i)))>=2]\n",
    "test_labels = list(set(labels)-set(train_labels))\n",
    "print(len(train_labels),len(test_labels))"
   ]
  },
  {
   "cell_type": "code",
   "execution_count": null,
   "metadata": {},
   "outputs": [],
   "source": []
  },
  {
   "cell_type": "code",
   "execution_count": null,
   "metadata": {},
   "outputs": [],
   "source": []
  }
 ],
 "metadata": {
  "kernelspec": {
   "display_name": "Python 3",
   "language": "python",
   "name": "python3"
  },
  "language_info": {
   "codemirror_mode": {
    "name": "ipython",
    "version": 3
   },
   "file_extension": ".py",
   "mimetype": "text/x-python",
   "name": "python",
   "nbconvert_exporter": "python",
   "pygments_lexer": "ipython3",
   "version": "3.8.2"
  }
 },
 "nbformat": 4,
 "nbformat_minor": 4
}
