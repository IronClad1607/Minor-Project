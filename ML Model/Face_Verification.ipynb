{
 "cells": [
  {
   "cell_type": "code",
   "execution_count": null,
   "metadata": {},
   "outputs": [],
   "source": [
    "import numpy as np\n",
    "import tensorflow as tf\n",
    "from tensorflow.keras.models import Sequential\n",
    "from tensorflow.keras.layers import Input, Concatenate,Dense, Subtract,Flatten,Lambda\n",
    "import matplotlib.pyplot as plt\n",
    "import cv2\n",
    "from  scipy import ndimage"
   ]
  },
  {
   "cell_type": "code",
   "execution_count": null,
   "metadata": {},
   "outputs": [],
   "source": [
    "!curl -O http://vis-www.cs.umass.edu/lfw/lfw.tgz\n",
    "!tar -xzvf lfw.tgz"
   ]
  },
  {
   "cell_type": "code",
   "execution_count": null,
   "metadata": {},
   "outputs": [],
   "source": [
    "def show(image, label):\n",
    "    plt.figure()\n",
    "    plt.imshow(image[0])\n",
    "    # plt.title(labels[label])\n",
    "    plt.title(label)\n",
    "    plt.axis('off')"
   ]
  },
  {
   "cell_type": "code",
   "execution_count": null,
   "metadata": {},
   "outputs": [],
   "source": [
    "import os\n",
    "import random\n",
    "BASE_PATH = 'lfw'\n",
    "\n",
    "labels = [i for i in os.listdir(BASE_PATH)]\n",
    "paths_with_more_than_2_images = []\n",
    "\n",
    "train_labels = [i for i in labels if len(os.listdir(os.path.join(BASE_PATH,i)))>=2]\n",
    "test_labels = list(set(labels)-set(train_labels))\n",
    "print(len(train_labels),len(test_labels))"
   ]
  },
  {
   "cell_type": "code",
   "execution_count": 1,
   "metadata": {},
   "outputs": [],
   "source": [
    "#Building model"
   ]
  },
  {
   "cell_type": "code",
   "execution_count": null,
   "metadata": {},
   "outputs": [],
   "source": [
    "from tensorflow.keras.optimizers import RMSprop\n",
    "opt = RMSprop()"
   ]
  },
  {
   "cell_type": "code",
   "execution_count": null,
   "metadata": {},
   "outputs": [],
   "source": [
    "def triplet_loss(y_true,x, alpha = 0.2):\n",
    "    # Triplet Loss function\n",
    "    anchor = x[:,0:64]\n",
    "    positive = x[:,64:128]\n",
    "    negative = x[:,128:]\n",
    "    \n",
    "    # distance between the anchor and the positive\n",
    "    pos_dist = tf.keras.backend.sum(tf.keras.backend.square(anchor-positive),axis=1)\n",
    "    # distance between the anchor and the negative\n",
    "    neg_dist = tf.keras.backend.sum(tf.keras.backend.square(anchor-negative),axis=1)\n",
    "    # compute loss\n",
    "    basic_loss = pos_dist-neg_dist+alpha\n",
    "    loss = tf.keras.backend.maximum(basic_loss,0.0)\n",
    "    return loss"
   ]
  },
  {
   "cell_type": "code",
   "execution_count": null,
   "metadata": {},
   "outputs": [],
   "source": [
    "def complete_model(base_model):\n",
    "    input1 = Input(shape=(224,224,3),name='Input_1')\n",
    "    input2 = Input(shape=(224,224,3),name=\"Input_2\")\n",
    "    input3 = Input(shape=(224,224,3),name='Input_3')\n",
    "    A = base_model(input1)\n",
    "    P = base_model(input2)\n",
    "    N = base_model(input3)\n",
    "    output = Concatenate(name='Merged')([A,P,N])\n",
    "    model = tf.keras.Model(inputs=[input1, input2, input3], outputs=output)\n",
    "    model.compile(loss=triplet_loss, optimizer=tf.keras.optimizers.RMSprop(0.001))\n",
    "\n",
    "    return model"
   ]
  },
  {
   "cell_type": "code",
   "execution_count": null,
   "metadata": {},
   "outputs": [],
   "source": [
    "base_model=buildEmbeddingModel()\n",
    "model = complete_model(base_model)"
   ]
  },
  {
   "cell_type": "code",
   "execution_count": 1,
   "metadata": {},
   "outputs": [],
   "source": [
    "#Training model"
   ]
  },
  {
   "cell_type": "code",
   "execution_count": null,
   "metadata": {},
   "outputs": [],
   "source": [
    "model.fit(tripletDataGenerator(train_labels,training=True),epochs=20,callbacks=[TensorBoard('./logs'),ModelCheckpoint('./model',save_best_only=True)],steps_per_epoch=200,verbose=1,validation_data=tripletDataGenerator(labels,training=False),validation_steps=30)"
   ]
  },
  {
   "cell_type": "code",
   "execution_count": null,
   "metadata": {},
   "outputs": [],
   "source": [
    "base_model.save('base_model.h5')\n",
    "base_model.save('saved_model/base_model')"
   ]
  },
  {
   "cell_type": "code",
   "execution_count": null,
   "metadata": {},
   "outputs": [],
   "source": []
  },
  {
   "cell_type": "code",
   "execution_count": null,
   "metadata": {},
   "outputs": [],
   "source": []
  }
 ],
 "metadata": {
  "kernelspec": {
   "display_name": "Python 3",
   "language": "python",
   "name": "python3"
  },
  "language_info": {
   "codemirror_mode": {
    "name": "ipython",
    "version": 3
   },
   "file_extension": ".py",
   "mimetype": "text/x-python",
   "name": "python",
   "nbconvert_exporter": "python",
   "pygments_lexer": "ipython3",
   "version": "3.8.2"
  }
 },
 "nbformat": 4,
 "nbformat_minor": 4
}
